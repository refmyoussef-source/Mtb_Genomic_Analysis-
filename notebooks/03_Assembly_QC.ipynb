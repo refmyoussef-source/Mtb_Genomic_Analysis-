{
 "cells": [
  {
   "cell_type": "markdown",
   "id": "b914fc4e-e951-4550-8f30-eea7557564c1",
   "metadata": {},
   "source": [
    "# Project 2: M. tuberculosis Genome Assembly\n",
    "## 03 - Assembly Quality Control with QUAST\n",
    "\n",
    "* **Author:** Youssef Mimoune\n",
    "* **Date:** 26-Oct-2025\n",
    "* **Sample IDs:** `DRR749571` (Control), `DRR749572` (Resistant)\n",
    "\n",
    "### Objective\n",
    "This notebook evaluates the quality of our two *de novo* assemblies from SPAdes. We will use `QUAST` to generate a comparative report.\n",
    "\n",
    "### Tool\n",
    "* `QUAST`: (v5.3.0) Quality Assessment Tool for Genome Assemblies.\n",
    "\n",
    "### Key Metrics to Watch\n",
    "* **Total Length:** Should be ~4.4 Mbp (the known size of *M. tuberculosis*).\n",
    "* **# of Contigs:** The number of pieces in our assembly. (Fewer is better).\n",
    "* **N50:** The contig size at which 50% of the assembly is covered. (Larger is better).\n",
    "* **L50:** The number of contigs needed to cover 50% of the assembly. (Smaller is better)."
   ]
  },
  {
   "cell_type": "code",
   "execution_count": null,
   "id": "92e88041-b085-4d6c-b1bf-a9ad651e3a67",
   "metadata": {},
   "outputs": [],
   "source": [
    "print(\"--- 1. Creating directory for QUAST reports ---\")\n",
    "!mkdir -p ../analysis/04_quast_qc\n",
    "\n",
    "print(\"Directory created.\")\n",
    "!ls -l ../analysis/"
   ]
  },
  {
   "cell_type": "code",
   "execution_count": null,
   "id": "2008f60f-54f3-4a26-9fe2-84db8de80628",
   "metadata": {},
   "outputs": [],
   "source": [
    "print(\"--- 2. Running QUAST (Simplified Command, no labels) ---\")\n",
    "\n",
    "# We removed the -l argument. QUAST will use the filenames as labels.\n",
    "!quast.py \\\n",
    "  -o ../analysis/04_quast_qc \\\n",
    "  -t 4 \\\n",
    "  ../analysis/03_spades_assembly/DRR749571_assembly/contigs.fasta \\\n",
    "  ../analysis/03_spades_assembly/DRR749572_assembly/contigs.fasta\n",
    "\n",
    "print(\"--- QUAST analysis complete ---\")"
   ]
  },
  {
   "cell_type": "code",
   "execution_count": null,
   "id": "e81d91fb-7018-4b75-8a23-0db4bc0e4a46",
   "metadata": {},
   "outputs": [],
   "source": [
    "print(\"\\n--- 3. Verifying QUAST Output ---\")\n",
    "!ls -lh ../analysis/04_quast_qc"
   ]
  }
 ],
 "metadata": {
  "kernelspec": {
   "display_name": "Python 3 (ipykernel)",
   "language": "python",
   "name": "python3"
  },
  "language_info": {
   "codemirror_mode": {
    "name": "ipython",
    "version": 3
   },
   "file_extension": ".py",
   "mimetype": "text/x-python",
   "name": "python",
   "nbconvert_exporter": "python",
   "pygments_lexer": "ipython3",
   "version": "3.11.9"
  }
 },
 "nbformat": 4,
 "nbformat_minor": 5
}
