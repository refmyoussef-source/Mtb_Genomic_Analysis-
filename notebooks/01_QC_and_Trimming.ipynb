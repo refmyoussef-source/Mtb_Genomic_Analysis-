{
 "cells": [
  {
   "cell_type": "markdown",
   "id": "85d37f1f-2e8d-44d4-9c75-dc64c44653cc",
   "metadata": {},
   "source": [
    "# Project 2: M. tuberculosis Genome Assembly\n",
    "## 01 - Quality Control (QC) and Trimming\n",
    "\n",
    "* **Author:** Youssef mimoune\n",
    "* **Date:** 25-Oct-2025\n",
    "* **Sample IDs:** `DRR749571` (Control), `DRR749572` (Resistant)\n",
    "\n",
    "### Objective\n",
    "This notebook performs two key steps:\n",
    "1.  **Raw QC:** Run `FastQC` on the four raw FASTQ files to assess their initial quality.\n",
    "2.  **Trimming:** Use `Fastp` to clean the data (remove adapters, filter low-quality reads).\n",
    "3.  **Trimmed QC:** Run `FastQC` again on the cleaned files to verify the improvement.\n",
    "4.  **Aggregation:** Use `MultiQC` to create summary reports for easy comparison.\n",
    "\n",
    "### Tools\n",
    "* `FastQC`: (v0.12.1) Generates QC reports for sequence data.\n",
    "* `Fastp`: (v0.23.4) Performs fast all-in-one preprocessing (trimming, filtering).\n",
    "* `MultiQC`: (v1.19) Aggregates QC reports into a single summary."
   ]
  },
  {
   "cell_type": "code",
   "execution_count": null,
   "id": "ff201321-2860-4c23-b123-14bbcbc3ab50",
   "metadata": {},
   "outputs": [],
   "source": [
    "print(\"--- 1. Creating QC and Trimming directories ---\")\n",
    "# We use '..' to go \"up\" one level from the 'notebooks' directory\n",
    "!mkdir -p ../analysis/01_fastqc_raw\n",
    "!mkdir -p ../analysis/02_fastp_trimmed\n",
    "!mkdir -p ../analysis/03_fastqc_trimmed\n",
    "\n",
    "print(\"Directories created:\")\n",
    "!ls -lR ../analysis/"
   ]
  },
  {
   "cell_type": "code",
   "execution_count": null,
   "id": "957de972-74f6-494d-9aa5-bb499d6f3dce",
   "metadata": {},
   "outputs": [],
   "source": [
    "print(\"--- FIX: Moving FASTQ files to the correct project data directory ---\")\n",
    "\n",
    "# 1. Just in case, we make sure the *correct* directory exists\n",
    "# (It should exist from our setup, but this is safer)\n",
    "!mkdir -p ../data/01_raw_fastq\n",
    "\n",
    "# 2. Move all FASTQ files from the wrong location to the correct one\n",
    "# 'data/01_raw_fastq/*' <-- This is the wrong path (relative to the notebook)\n",
    "# '../data/01_raw_fastq/' <-- This is the correct path (relative to the notebook)\n",
    "!mv data/01_raw_fastq/*.fastq ../data/01_raw_fastq/\n",
    "\n",
    "# 3. Verify the move\n",
    "print(\"\\n--- Verification ---\")\n",
    "print(\"Wrong location (should be empty now):\")\n",
    "!ls -lh data/01_raw_fastq/\n",
    "\n",
    "print(\"\\nCorrect location (should have files now):\")\n",
    "!ls -lh ../data/01_raw_fastq/"
   ]
  },
  {
   "cell_type": "code",
   "execution_count": null,
   "id": "d16b940d-ae97-4189-9f36-815f9835e6ab",
   "metadata": {},
   "outputs": [],
   "source": [
    "print(\"--- 2. Running FastQC on Raw Data ---\")\n",
    "# We run FastQC on all 4 raw FASTQ files\n",
    "# -o : Output directory\n",
    "# -t : Number of threads (to speed it up)\n",
    "# The '\\' just lets us split the command onto multiple lines for readability\n",
    "\n",
    "!fastqc \\\n",
    "  -o ../analysis/01_fastqc_raw \\\n",
    "  -t 4 \\\n",
    "  ../data/01_raw_fastq/DRR749571_1.fastq \\\n",
    "  ../data/01_raw_fastq/DRR749571_2.fastq \\\n",
    "  ../data/01_raw_fastq/DRR749572_1.fastq \\\n",
    "  ../data/01_raw_fastq/DRR749572_2.fastq\n",
    "\n",
    "print(\"--- Raw FastQC complete ---\")\n",
    "!ls -lh ../analysis/01_fastqc_raw"
   ]
  },
  {
   "cell_type": "code",
   "execution_count": null,
   "id": "251a72fe-d600-4e00-968b-accdafee5a19",
   "metadata": {},
   "outputs": [],
   "source": [
    "print(\"--- 3. Running MultiQC on Raw QC Reports ---\")\n",
    "\n",
    "# -o : فين تحط التقرير (in the same directory)\n",
    "# ../analysis/01_fastqc_raw : فين تقلب على التقارير (scan this directory)\n",
    "!multiqc -o ../analysis/01_fastqc_raw ../analysis/01_fastqc_raw\n",
    "\n",
    "print(\"\\n--- MultiQC complete. Checking directory contents: ---\")\n",
    "# This command will show us ALL files in that directory\n",
    "!ls -lh ../analysis/01_fastqc_raw"
   ]
  },
  {
   "cell_type": "markdown",
   "id": "ee783709-17bf-43fc-bc41-5ae0f7f7bedf",
   "metadata": {},
   "source": [
    "## 4. Trimming and Filtering with `fastp`\n",
    "\n",
    "Based on the raw `MultiQC` report, we confirmed the presence of adapters. We will now use `fastp` to clean the data.\n",
    "\n",
    "`fastp` will perform several steps automatically:\n",
    "1.  **Auto-detect and trim adapters:** (This solves our main problem).\n",
    "2.  **Quality trimming:** We will trim reads from the right side if quality drops (using `fastp`'s default windowing).\n",
    "3.  **Quality filtering:** We will set a minimum Phred score (`--qualified_quality_phred 20`).\n",
    "4.  **Length filtering:** We will discard any read pair that becomes shorter than 50bp after trimming (`--length_required 50`).\n",
    "\n",
    "We will also output compressed files (`.fastq.gz`) to save space, and generate new HTML/JSON reports for `fastp`."
   ]
  },
  {
   "cell_type": "code",
   "execution_count": null,
   "id": "f399620e-6f61-475d-8706-9ba8932038e9",
   "metadata": {},
   "outputs": [],
   "source": [
    "print(\"--- 4. Running fastp on Sample DRR749571 (Control) ---\")\n",
    "\n",
    "!fastp \\\n",
    "  -i ../data/01_raw_fastq/DRR749571_1.fastq \\\n",
    "  -I ../data/01_raw_fastq/DRR749571_2.fastq \\\n",
    "  -o ../analysis/02_fastp_trimmed/DRR749571.trimmed_1.fastq.gz \\\n",
    "  -O ../analysis/02_fastp_trimmed/DRR749571.trimmed_2.fastq.gz \\\n",
    "  --qualified_quality_phred 20 \\\n",
    "  --length_required 50 \\\n",
    "  -t 4 \\\n",
    "  -j ../analysis/02_fastp_trimmed/DRR749571.fastp.json \\\n",
    "  -h ../analysis/02_fastp_trimmed/DRR749571.fastp.html\n",
    "\n",
    "print(\"--- fastp complete for DRR749571 ---\")"
   ]
  },
  {
   "cell_type": "code",
   "execution_count": null,
   "id": "6c8e1a57-ee97-4f79-adbb-2e862237c562",
   "metadata": {},
   "outputs": [],
   "source": [
    "print(\"--- 5. Running fastp on Sample DRR749572 (Resistant) ---\")\n",
    "\n",
    "!fastp \\\n",
    "  -i ../data/01_raw_fastq/DRR749572_1.fastq \\\n",
    "  -I ../data/01_raw_fastq/DRR749572_2.fastq \\\n",
    "  -o ../analysis/02_fastp_trimmed/DRR749572.trimmed_1.fastq.gz \\\n",
    "  -O ../analysis/02_fastp_trimmed/DRR749572.trimmed_2.fastq.gz \\\n",
    "  --qualified_quality_phred 20 \\\n",
    "  --length_required 50 \\\n",
    "  -t 4 \\\n",
    "  -j ../analysis/02_fastp_trimmed/DRR749572.fastp.json \\\n",
    "  -h ../analysis/02_fastp_trimmed/DRR749572.fastp.html\n",
    "\n",
    "print(\"--- fastp complete for DRR749572 ---\")"
   ]
  },
  {
   "cell_type": "code",
   "execution_count": null,
   "id": "53b4ccea-528e-4d7f-b28b-7485a94694b1",
   "metadata": {},
   "outputs": [],
   "source": [
    "print(\"\\n--- 6. Verifying Trimming Output ---\")\n",
    "!ls -lh ../analysis/02_fastp_trimmed"
   ]
  },
  {
   "cell_type": "markdown",
   "id": "29a39ad0-cee3-4467-8b84-d0d0ee32dfa8",
   "metadata": {},
   "source": [
    "## 5. Post-Trimming Quality Control\n",
    "\n",
    "Now that we have cleaned and trimmed our data with `fastp`, we must verify the results. We will run `FastQC` and `MultiQC` *again* on the new trimmed files.\n",
    "\n",
    "Our goal is to compare the new `multiqc_report.html` with the old one and confirm that:\n",
    "1.  The \"Adapter Content\" graph is now flat (all adapters are gone).\n",
    "2.  The \"Per Base Sequence Quality\" remains high, or even improves."
   ]
  },
  {
   "cell_type": "code",
   "execution_count": null,
   "id": "112d7e51-09b7-45c2-ac88-8fe6bef614e9",
   "metadata": {},
   "outputs": [],
   "source": [
    "print(\"--- 7. Running FastQC on Trimmed Data ---\")\n",
    "# We run FastQC on the 4 *new* trimmed/compressed files\n",
    "# -o : Output directory\n",
    "# -t : Number of threads\n",
    "\n",
    "!fastqc \\\n",
    "  -o ../analysis/03_fastqc_trimmed \\\n",
    "  -t 4 \\\n",
    "  ../analysis/02_fastp_trimmed/DRR749571.trimmed_1.fastq.gz \\\n",
    "  ../analysis/02_fastp_trimmed/DRR749571.trimmed_2.fastq.gz \\\n",
    "  ../analysis/02_fastp_trimmed/DRR749572.trimmed_1.fastq.gz \\\n",
    "  ../analysis/02_fastp_trimmed/DRR749572.trimmed_2.fastq.gz\n",
    "\n",
    "print(\"--- Trimmed FastQC complete ---\")\n",
    "!ls -lh ../analysis/03_fastqc_trimmed"
   ]
  },
  {
   "cell_type": "code",
   "execution_count": null,
   "id": "f6893919-48f7-4ca2-9b43-74857bdc9918",
   "metadata": {},
   "outputs": [],
   "source": [
    "print(\"--- 8. Running MultiQC on Trimmed QC Reports ---\")\n",
    "# This scans the *new* directory for reports\n",
    "\n",
    "!multiqc \\\n",
    "  -o ../analysis/03_fastqc_trimmed \\\n",
    "  ../analysis/03_fastqc_trimmed\n",
    "\n",
    "print(\"--- Trimmed MultiQC complete ---\")\n",
    "!ls -lh ../analysis/03_fastqc_trimmed"
   ]
  }
 ],
 "metadata": {
  "kernelspec": {
   "display_name": "Python 3 (ipykernel)",
   "language": "python",
   "name": "python3"
  },
  "language_info": {
   "codemirror_mode": {
    "name": "ipython",
    "version": 3
   },
   "file_extension": ".py",
   "mimetype": "text/x-python",
   "name": "python",
   "nbconvert_exporter": "python",
   "pygments_lexer": "ipython3",
   "version": "3.11.9"
  }
 },
 "nbformat": 4,
 "nbformat_minor": 5
}
