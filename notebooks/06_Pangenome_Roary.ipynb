{
 "cells": [
  {
   "cell_type": "markdown",
   "id": "568f44a4-20ff-4a82-9b27-ab4a59df8566",
   "metadata": {},
   "source": [
    "# Project 2: M. tuberculosis Genome Assembly\n",
    "## 06 - Pangenome Analysis with Roary\n",
    "\n",
    "* **Author:** Youssef Mimoune\n",
    "* **Date:** 26-Oct-2025\n",
    "\n",
    "### Objective\n",
    "Our hypothesis-driven search (`grep`) for known resistance mutations (`folC`, `thyA`, `ribD`) failed. This suggests our resistant strain (`DRR749572`) has a novel or less common mutation.\n",
    "\n",
    "We will now perform an **unbiased, pangenome analysis** using `Roary`.\n",
    "\n",
    "### Methodology\n",
    "1.  **Run `Roary`:** We will feed `Roary` the `.gff` annotation files from `Prokka`.\n",
    "2.  **How it works:** `Roary` is \"smart\". It identifies all genes present in both samples (the \"core genome\"), regardless of their order in the assembly.\n",
    "3.  **Output:** `Roary` will create a single alignment file (`core_gene_alignment.aln`) containing all ~4000 core genes, perfectly aligned between the two samples.\n",
    "4.  **Next Step:** We will then use a tool called `snp-sites` on this alignment to find the exact mutation."
   ]
  },
  {
   "cell_type": "code",
   "execution_count": null,
   "id": "b62a2f60-35b9-4cb7-a7ff-1aa0756a1b91",
   "metadata": {},
   "outputs": [],
   "source": [
    "print(\"--- 1. Creating directory for Roary results ---\")\n",
    "!mkdir -p ../analysis/07_roary_results\n",
    "\n",
    "print(\"Directory created.\")\n",
    "!ls -l ../analysis/"
   ]
  },
  {
   "cell_type": "code",
   "execution_count": null,
   "id": "dad22ff9-3bb1-4bf4-a262-a7e80b38268a",
   "metadata": {},
   "outputs": [],
   "source": [
    "print(\"\\n--- 3. Verifying Roary Output ---\")\n",
    "!ls -lh ../analysis/07_roary_results"
   ]
  },
  {
   "cell_type": "code",
   "execution_count": null,
   "id": "ec2d84ec-8c2f-485e-b585-210b92ac9ada",
   "metadata": {},
   "outputs": [],
   "source": []
  }
 ],
 "metadata": {
  "kernelspec": {
   "display_name": "Python 3 (ipykernel)",
   "language": "python",
   "name": "python3"
  },
  "language_info": {
   "codemirror_mode": {
    "name": "ipython",
    "version": 3
   },
   "file_extension": ".py",
   "mimetype": "text/x-python",
   "name": "python",
   "nbconvert_exporter": "python",
   "pygments_lexer": "ipython3",
   "version": "3.11.9"
  }
 },
 "nbformat": 4,
 "nbformat_minor": 5
}
