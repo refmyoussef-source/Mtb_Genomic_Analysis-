{
 "cells": [
  {
   "cell_type": "markdown",
   "id": "49c23a2a-48be-437a-84af-3b69216bed03",
   "metadata": {},
   "source": [
    "# Project 2: M. tuberculosis Genome Assembly\n",
    "## 02 - Genome Assembly with SPAdes\n",
    "\n",
    "* **Author:** Youssef (Your Name)\n",
    "* **Date:** 25-Oct-2025\n",
    "* **Sample IDs:** `DRR749571` (Control), `DRR749572` (Resistant)\n",
    "\n",
    "### Objective\n",
    "This notebook performs the *de novo* genome assembly using the trimmed reads from the previous step (01_QC). We will use `SPAdes`, a powerful assembler that uses De Bruijn graphs with multiple k-mer sizes.\n",
    "\n",
    "We will assemble each sample *separately* to compare them later.\n",
    "\n",
    "### Tool\n",
    "* `SPAdes`: (v4.0.0) A genome assembler for small genomes.\n",
    "* **Key Parameters:**\n",
    "    * `--careful`: Mismatch correction mode for high-quality data.\n",
    "    * `-k 21,33,55,77,99,127`: A large range of k-mers for high-quality contigs.\n",
    "    * `-t 4 -m 20`: Using 4 threads and 20GB of RAM."
   ]
  },
  {
   "cell_type": "code",
   "execution_count": null,
   "id": "c21ffc9d-758e-411b-b109-538acf06ec84",
   "metadata": {},
   "outputs": [],
   "source": [
    "print(\"--- 1. Creating directories for SPAdes assembly ---\")\n",
    "# We create one output directory for each sample's assembly\n",
    "!mkdir -p ../analysis/03_spades_assembly/DRR749571_assembly\n",
    "!mkdir -p ../analysis/03_spades_assembly/DRR749572_assembly\n",
    "\n",
    "print(\"Directories created:\")\n",
    "!ls -lR ../analysis/"
   ]
  },
  {
   "cell_type": "code",
   "execution_count": null,
   "id": "6722f70c-993d-49aa-9d79-472eb443f177",
   "metadata": {},
   "outputs": [],
   "source": [
    "print(\"--- 2. Starting SPAdes Assembly for DRR749571 (Control) ---\")\n",
    "# This will take a LONG time (potentially 30-60 minutes or more).\n",
    "# We are running this inside 'screen' so it's safe if we disconnect.\n",
    "\n",
    "!spades.py \\\n",
    "  -1 ../analysis/02_fastp_trimmed/DRR749571.trimmed_1.fastq.gz \\\n",
    "  -2 ../analysis/02_fastp_trimmed/DRR749571.trimmed_2.fastq.gz \\\n",
    "  -o ../analysis/03_spades_assembly/DRR749571_assembly \\\n",
    "  -k 21,33,55,77,99,127 \\\n",
    "  --careful \\\n",
    "  -t 4 \\\n",
    "  -m 20\n",
    "\n",
    "print(\"--- SPAdes Assembly for DRR749571 COMPLETE ---\")"
   ]
  }
 ],
 "metadata": {
  "kernelspec": {
   "display_name": "Python 3 (ipykernel)",
   "language": "python",
   "name": "python3"
  },
  "language_info": {
   "codemirror_mode": {
    "name": "ipython",
    "version": 3
   },
   "file_extension": ".py",
   "mimetype": "text/x-python",
   "name": "python",
   "nbconvert_exporter": "python",
   "pygments_lexer": "ipython3",
   "version": "3.11.9"
  }
 },
 "nbformat": 4,
 "nbformat_minor": 5
}
