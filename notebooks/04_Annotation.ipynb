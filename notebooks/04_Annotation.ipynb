{
 "cells": [
  {
   "cell_type": "markdown",
   "id": "e37e1e58-175c-4317-b953-afccaef2d14c",
   "metadata": {},
   "source": [
    "# Project 2: M. tuberculosis Genome Assembly\n",
    "## 04 - Genome Annotation with Prokka\n",
    "\n",
    "* **Author:** Youssef Mimoune\n",
    "* **Date:** 26-Oct-2025\n",
    "* **Sample IDs:** `DRR749571` (Control), `DRR749572` (Resistant)\n",
    "\n",
    "### Objective\n",
    "This notebook takes our high-quality assemblies (contigs.fasta) and \"annotates\" them. We will use `Prokka` to find all the genes (CDS, rRNA, tRNA) and predict their functions.\n",
    "\n",
    "This is the final step before we can compare the genomes to find resistance-related mutations.\n",
    "\n",
    "### Tool\n",
    "* `Prokka`: (v1.14.6) Rapid Prokaryotic Genome Annotation.\n",
    "* **Key Parameters:**\n",
    "    * `--gcode 11`: **CRITICAL.** *Mycobacterium* uses Genetic Code 11, not the standard 1.\n",
    "    * `--kingdom Bacteria`: Specify we are annotating bacteria."
   ]
  },
  {
   "cell_type": "code",
   "execution_count": null,
   "id": "a934b91b-b84b-41f0-ba53-b0375f732c9d",
   "metadata": {},
   "outputs": [],
   "source": [
    "print(\"--- 2. Starting Prokka Annotation for DRR749571 (Control) ---\")\n",
    "# Attempt 4: Correcting the INPUT file path (was '03_prokka...' should be '03_spades...')\n",
    "\n",
    "!prokka \\\n",
    "  --outdir ../analysis/05_prokka_annotation/DRR749571_annotation \\\n",
    "  --prefix DRR749571_control \\\n",
    "  --kingdom Bacteria \\\n",
    "  --gcode 11 \\\n",
    "  --genus Mycobacterium \\\n",
    "  --species tuberculosis \\\n",
    "  --cpus 4 \\\n",
    "  ../analysis/03_spades_assembly/DRR749571_assembly/contigs.fasta\n",
    "\n",
    "print(\"--- Prokka Annotation for DRR749571 COMPLETE ---\")"
   ]
  },
  {
   "cell_type": "code",
   "execution_count": null,
   "id": "6a2a4701-6c7b-4f23-a8eb-23d774ff72b2",
   "metadata": {},
   "outputs": [],
   "source": [
    "print(\"--- 3. Starting Prokka Annotation for DRR749572 (Resistant) ---\")\n",
    "\n",
    "!prokka \\\n",
    "  --outdir ../analysis/05_prokka_annotation/DRR749572_annotation \\\n",
    "  --prefix DRR749572_resistant \\\n",
    "  --kingdom Bacteria \\\n",
    "  --gcode 11 \\\n",
    "  --genus Mycobacterium \\\n",
    "  --species tuberculosis \\\n",
    "  --cpus 4 \\\n",
    "  ../analysis/03_spades_assembly/DRR749572_assembly/contigs.fasta\n",
    "\n",
    "print(\"--- Prokka Annotation for DRR749572 COMPLETE ---\")"
   ]
  },
  {
   "cell_type": "code",
   "execution_count": null,
   "id": "082f9b87-e1fc-4722-bc91-20946847fc3f",
   "metadata": {},
   "outputs": [],
   "source": [
    "print(\"\\n--- 4. Verifying Prokka Output ---\")\n",
    "!ls -lhR ../analysis/05_prokka_annotation/"
   ]
  },
  {
   "cell_type": "code",
   "execution_count": null,
   "id": "3e962473-0edd-485b-9671-b6258a131294",
   "metadata": {},
   "outputs": [],
   "source": [
    "print(\"--- 5. Reading Prokka Summary Reports ---\")\n",
    "\n",
    "print(\"\\n--- Summary for DRR749571 (Control) ---\")\n",
    "!cat ../analysis/05_prokka_annotation/DRR749571_annotation/DRR749571_control.txt\n",
    "\n",
    "print(\"\\n--- Summary for DRR749572 (Resistant) ---\")\n",
    "!cat ../analysis/05_prokka_annotation/DRR749572_annotation/DRR749572_resistant.txt"
   ]
  }
 ],
 "metadata": {
  "kernelspec": {
   "display_name": "Python 3 (ipykernel)",
   "language": "python",
   "name": "python3"
  },
  "language_info": {
   "codemirror_mode": {
    "name": "ipython",
    "version": 3
   },
   "file_extension": ".py",
   "mimetype": "text/x-python",
   "name": "python",
   "nbconvert_exporter": "python",
   "pygments_lexer": "ipython3",
   "version": "3.11.9"
  }
 },
 "nbformat": 4,
 "nbformat_minor": 5
}
