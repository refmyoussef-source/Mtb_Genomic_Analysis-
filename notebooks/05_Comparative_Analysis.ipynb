{
 "cells": [
  {
   "cell_type": "markdown",
   "id": "c7a0c0de-7b69-4bec-9d17-44d5cffdaa94",
   "metadata": {},
   "source": [
    "# Project 2: M. tuberculosis Genome Assembly\n",
    "## 05 - Comparative Analysis: Hypothesis-Driven Mutation Discovery\n",
    "\n",
    "* **Author:** Youssef mimoune\n",
    "* **Date:** 26-Oct-2025\n",
    "\n",
    "### Objective\n",
    "This notebook investigates the genetic cause of PAS resistance in sample `DRR749572`.\n",
    "\n",
    "Our initial \"unbiased\" approach using `diff` on the `.faa` files failed because the gene order was different between the two assemblies (due to different contig assemblies by SPAdes).\n",
    "\n",
    "We will now pivot to a **hypothesis-driven approach**, testing the most common genes known to cause PAS resistance, as identified from scientific literature.\n",
    "\n",
    "### Candidate Genes (Hypotheses)\n",
    "1.  **`folC`**: Dihydrofolate synthase\n",
    "2.  **`thyA`**: Thymidylate synthase\n",
    "3.  **`ribD`**: Riboflavin biosynthesis protein"
   ]
  },
  {
   "cell_type": "code",
   "execution_count": null,
   "id": "b6b37677-0c88-4b59-b17e-6f91870e0c47",
   "metadata": {},
   "outputs": [],
   "source": [
    "print(\"--- 1. Creating directory for differential analysis ---\")\n",
    "!mkdir -p ../analysis/06_diff_results\n",
    "\n",
    "print(\"Directory created.\")\n",
    "!ls -l ../analysis/"
   ]
  },
  {
   "cell_type": "markdown",
   "id": "626ad87d-3002-4329-bfbf-1fa0d18257b7",
   "metadata": {},
   "source": [
    "---\n",
    "### Hypothesis 1: `folC` Mutation Search\n",
    "\n",
    "We will first search the GFF files to find the specific Locus Tag for `folC`."
   ]
  },
  {
   "cell_type": "code",
   "execution_count": null,
   "id": "294880db-3dec-49d9-b45b-fc7afea28539",
   "metadata": {},
   "outputs": [],
   "source": [
    "print(\"--- 1. Testing Hypothesis 1: Checking gene 'folC' ---\")\n",
    "print(\"--- 'folC' name not found in .faa. Searching in GFF for 'folate' instead... ---\")\n",
    "\n",
    "print(\"\\n--- Control Sample (DRR749571) ---\")\n",
    "# Search the .gff file for the function \"folate\"\n",
    "!grep \"folate\" ../analysis/05_prokka_annotation/DRR749571_annotation/DRR749571_control.gff\n",
    "\n",
    "print(\"\\n--- Resistant Sample (DRR749572) ---\")\n",
    "!grep \"folate\" ../analysis/05_prokka_annotation/DRR749572_annotation/DRR749572_resistant.gff"
   ]
  },
  {
   "cell_type": "code",
   "execution_count": null,
   "id": "442200cd-442d-436f-af00-8c7ba3efa751",
   "metadata": {},
   "outputs": [],
   "source": [
    "print(\"--- 1. Testing Hypothesis 1: Extracting 'folC' using its Locus Tag ---\")\n",
    "print(\"\\n--- Control Sample (DRR749571) 'folC' Protein Sequence: ---\")\n",
    "\n",
    "# We are now searching for the specific Locus Tag we found in the GFF\n",
    "!grep -A 10 \"IBGOOOGP_02999\" ../analysis/05_prokka_annotation/DRR749571_annotation/DRR749571_control.faa"
   ]
  },
  {
   "cell_type": "code",
   "execution_count": null,
   "id": "d4688f83-aa33-4532-95c6-f52707211373",
   "metadata": {},
   "outputs": [],
   "source": [
    "print(\"\\n--- Resistant Sample (DRR749572) 'folC' Protein Sequence: ---\")\n",
    "\n",
    "# We use the specific Locus Tag for *this* sample's annotation\n",
    "!grep -A 10 \"JCLEOGND_02856\" ../analysis/05_prokka_annotation/DRR749572_annotation/DRR749572_resistant.faa"
   ]
  },
  {
   "cell_type": "markdown",
   "id": "ecbc2f14-ea59-426a-98e9-8ea72a040af0",
   "metadata": {},
   "source": [
    "---\n",
    "### Hypothesis 2: `thyA` Mutation Search\n",
    "\n",
    "`folC` sequences were identical. We now proceed to the second candidate, `thyA`. We will search the GFF files to find its Locus Tag."
   ]
  },
  {
   "cell_type": "code",
   "execution_count": null,
   "id": "c0ec3283-4ed6-4b64-b6b5-2f3e6e44f101",
   "metadata": {},
   "outputs": [],
   "source": [
    "print(\"--- 2. Hypothesis 1 FAILED. Testing Hypothesis 2: Checking gene 'thyA' ---\")\n",
    "print(\"--- Searching GFF for 'thyA' Locus Tags... ---\")\n",
    "\n",
    "print(\"\\n--- Control Sample (DRR749571) ---\")\n",
    "!grep \"thyA\" ../analysis/05_prokka_annotation/DRR749571_annotation/DRR749571_control.gff\n",
    "\n",
    "print(\"\\n--- Resistant Sample (DRR749572) ---\")\n",
    "!grep \"thyA\" ../analysis/05_prokka_annotation/DRR749572_annotation/DRR749572_resistant.gff"
   ]
  },
  {
   "cell_type": "code",
   "execution_count": null,
   "id": "1a9c9992-7a70-4ca1-aade-d073eb62cb08",
   "metadata": {},
   "outputs": [],
   "source": [
    "print(\"--- 3. Extracting 'thyA' (Hypothesis 2) using its Locus Tag ---\")\n",
    "print(\"\\n--- Control Sample (DRR749571) 'thyA' Protein Sequence: ---\")\n",
    "\n",
    "# We are searching for the specific Locus Tag for thyA\n",
    "!grep -A 10 \"IBGOOOGP_02304\" ../analysis/05_prokka_annotation/DRR749571_annotation/DRR749571_control.faa"
   ]
  },
  {
   "cell_type": "code",
   "execution_count": null,
   "id": "90dfe9dc-6955-4910-8f37-5c979c3cf816",
   "metadata": {},
   "outputs": [],
   "source": [
    "print(\"\\n--- Resistant Sample (DRR749572) 'thyA' Protein Sequence: ---\")\n",
    "\n",
    "!grep -A 10 \"JCLEOGND_02130\" ../analysis/05_prokka_annotation/DRR749572_annotation/DRR749572_resistant.faa"
   ]
  },
  {
   "cell_type": "markdown",
   "id": "edd046b9-103e-44fc-bacc-8f83ad4a1154",
   "metadata": {},
   "source": [
    "---\n",
    "### Hypothesis 3: `ribD` Mutation Search\n",
    "\n",
    "`thyA` sequences were also identical. We now proceed to the third candidate, `ribD`. We will search the GFF files to find its Locus Tag."
   ]
  },
  {
   "cell_type": "code",
   "execution_count": null,
   "id": "861d49ba-8512-477f-b4ab-3eeb99ef8184",
   "metadata": {},
   "outputs": [],
   "source": [
    "print(\"--- 3. H1 & H2 FAILED. Testing Hypothesis 3: Checking gene 'ribD' ---\")\n",
    "print(\"--- Searching GFF for 'ribD' Locus Tags... ---\")\n",
    "\n",
    "print(\"\\n--- Control Sample (DRR749571) ---\")\n",
    "!grep \"ribD\" ../analysis/05_prokka_annotation/DRR749571_annotation/DRR749571_control.gff\n",
    "\n",
    "print(\"\\n--- Resistant Sample (DRR749572) ---\")\n",
    "!grep \"ribD\" ../analysis/05_prokka_annotation/DRR749572_annotation/DRR749572_resistant.gff"
   ]
  },
  {
   "cell_type": "code",
   "execution_count": null,
   "id": "98c7a3a7-f86f-4c7c-9591-54e3afaa54dd",
   "metadata": {},
   "outputs": [],
   "source": [
    "print(\"--- 4. Extracting 'ribD' (Hypothesis 3) using its Locus Tag ---\")\n",
    "print(\"\\n--- Control Sample (DRR749571) 'ribD' Protein Sequence: ---\")\n",
    "\n",
    "# We are searching for the specific Locus Tag for ribD\n",
    "!grep -A 10 \"IBGOOOGP_00101\" ../analysis/05_prokka_annotation/DRR749571_annotation/DRR749571_control.faa"
   ]
  },
  {
   "cell_type": "code",
   "execution_count": null,
   "id": "49bda0fa-d60d-48f9-b22d-d4e9b6f442c9",
   "metadata": {},
   "outputs": [],
   "source": [
    "print(\"\\n--- Resistant Sample (DRR749572) 'ribD' Protein Sequence: ---\")\n",
    "\n",
    "!grep -A 10 \"JCLEOGND_00159\" ../analysis/05_prokka_annotation/DRR749572_annotation/DRR749572_resistant.faa"
   ]
  },
  {
   "cell_type": "markdown",
   "id": "10434d6e-0270-424a-94d8-f107f5db5e93",
   "metadata": {},
   "source": [
    "---\n",
    "### Investigation Conclusion\n",
    "\n",
    "All three major candidate genes (`folC`, `thyA`, and `ribD`) were found to be **identical** at the protein level between the control and resistant strains.\n",
    "\n",
    "This is a significant finding: it means our strain (`DRR749572`) has a **non-canonical (novel or less common)** resistance mechanism.\n",
    "\n",
    "This rules out the simple hypothesis-driven approach. We must now proceed to a full, unbiased, pangenome analysis using a smarter tool (`Roary`) that can compare all ~4000 genes regardless of their order in the assembly."
   ]
  },
  {
   "cell_type": "code",
   "execution_count": null,
   "id": "fd1f319b-1b0c-4f16-8fdd-61916512efab",
   "metadata": {},
   "outputs": [],
   "source": []
  }
 ],
 "metadata": {
  "kernelspec": {
   "display_name": "Python 3 (ipykernel)",
   "language": "python",
   "name": "python3"
  },
  "language_info": {
   "codemirror_mode": {
    "name": "ipython",
    "version": 3
   },
   "file_extension": ".py",
   "mimetype": "text/x-python",
   "name": "python",
   "nbconvert_exporter": "python",
   "pygments_lexer": "ipython3",
   "version": "3.11.9"
  }
 },
 "nbformat": 4,
 "nbformat_minor": 5
}
