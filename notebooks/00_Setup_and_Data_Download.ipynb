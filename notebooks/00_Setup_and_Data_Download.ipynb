{
 "cells": [
  {
   "cell_type": "markdown",
   "id": "2fe4ab51-58bc-4668-93dd-12a957642fcd",
   "metadata": {},
   "source": [
    "# Project 2: M. tuberculosis Genome Assembly\n",
    "\n",
    "## 00 - Environment Setup and Data Download\n",
    "\n",
    "* **Author:** Youssef Mimoune\n",
    "* **Date:** 19/10\n",
    "* **Project:** `PRJDB37589` (PAS resistance in *M. tuberculosis*)\n",
    "* **Sample ID:** `DRR749571`\n",
    "\n",
    "### Objective\n",
    "This notebook sets up the project structure, verifies all required bioinformatics tools, and downloads the raw sequence data from the DDBJ/SRA database."
   ]
  },
  {
   "cell_type": "code",
   "execution_count": null,
   "id": "d8a1e74c-75d0-46de-81c0-d94e0d11ea08",
   "metadata": {},
   "outputs": [],
   "source": [
    "# We use '!' to run shell commands from inside Jupyter\n",
    "print(\"--- 1. Verifying Bioinformatics Tools ---\")\n",
    "\n",
    "!fastqc --version\n",
    "!multiqc --version\n",
    "!fastp --version\n",
    "!spades.py --version\n",
    "!quast.py --version\n",
    "!prokka --version\n",
    "!prefetch -V  # -V (capital V) for sra-tools version"
   ]
  },
  {
   "cell_type": "code",
   "execution_count": null,
   "id": "5c505b32-c88d-48ae-b32b-0c6f572bbfbd",
   "metadata": {},
   "outputs": [],
   "source": [
    "print(\"\\n--- 2. Verifying Project Structure ---\")\n",
    "!ls -lR ../"
   ]
  },
  {
   "cell_type": "code",
   "execution_count": null,
   "id": "3ab1b17a-7c38-47f0-8571-cd2329e32fd1",
   "metadata": {},
   "outputs": [],
   "source": [
    "print(\"\\n--- 3. Downloading SRA Data: DRR749571 ---\")\n",
    "# -O data/00_raw_sra  -->  Output directory\n",
    "# We created the 'data' directory, but .gitignore is ignoring it. \n",
    "# Let's create the sub-directory '00_raw_sra' inside 'data'.\n",
    "!mkdir -p data/00_raw_sra\n",
    "\n",
    "!prefetch DRR749571 -O data/00_raw_sra\n",
    "print(\"--- Download Complete ---\")"
   ]
  },
  {
   "cell_type": "code",
   "execution_count": null,
   "id": "7788042a-38ef-4684-b8a8-9398cc50a67e",
   "metadata": {},
   "outputs": [],
   "source": [
    "print(\"\\n--- 4. Downloading SRA Data: DRR749572 (Resistant Strain) ---\")\n",
    "!prefetch DRR749572 -O data/00_raw_sra\n",
    "print(\"--- Download Complete ---\")"
   ]
  },
  {
   "cell_type": "code",
   "execution_count": null,
   "id": "f2892ebd-a730-43c2-8d57-44180229957c",
   "metadata": {},
   "outputs": [],
   "source": [
    "print(\"\\n--- 5. Checking all downloaded files ---\")\n",
    "!ls -lhR data/00_raw_sra"
   ]
  },
  {
   "cell_type": "markdown",
   "id": "470ab524-17d1-4372-818c-edd1cd6c6458",
   "metadata": {},
   "source": [
    "## 6. Convert SRA to FASTQ\n",
    "\n",
    "Now we will use `fasterq-dump` (part of sra-tools) to convert the compressed `.sra` files into paired-end `.fastq` files.\n",
    "- We use `--split-files` to get two files (R1 and R2) for our paired-end data.\n",
    "- We use `-O data/01_raw_fastq` to place the results in our raw FASTQ directory.\n",
    "- We use `-p` to show progress."
   ]
  },
  {
   "cell_type": "code",
   "execution_count": null,
   "id": "2dd5698e-73d2-49a3-8421-9d674e34fef5",
   "metadata": {},
   "outputs": [],
   "source": [
    "print(\"--- Starting SRA to FASTQ conversion ---\")\n",
    "# Note: sra-tools can be slow. This might take a few minutes.\n",
    "\n",
    "# Sample 1: DRR749571 (Control)\n",
    "!fasterq-dump --split-files -p -O data/01_raw_fastq data/00_raw_sra/DRR749571/DRR749571.sra\n",
    "\n",
    "# Sample 2: DRR749572 (Resistant)\n",
    "!fasterq-dump --split-files -p -O data/01_raw_fastq data/00_raw_sra/DRR749572/DRR749572.sra\n",
    "\n",
    "print(\"--- Conversion Complete ---\")"
   ]
  },
  {
   "cell_type": "code",
   "execution_count": null,
   "id": "5e799b21-a2c7-4394-9700-33f450c4ee83",
   "metadata": {},
   "outputs": [],
   "source": [
    "print(\"\\n--- 7. Final Verification of FASTQ Files ---\")\n",
    "!ls -lh data/01_raw_fastq"
   ]
  }
 ],
 "metadata": {
  "kernelspec": {
   "display_name": "Python 3 (ipykernel)",
   "language": "python",
   "name": "python3"
  },
  "language_info": {
   "codemirror_mode": {
    "name": "ipython",
    "version": 3
   },
   "file_extension": ".py",
   "mimetype": "text/x-python",
   "name": "python",
   "nbconvert_exporter": "python",
   "pygments_lexer": "ipython3",
   "version": "3.11.9"
  }
 },
 "nbformat": 4,
 "nbformat_minor": 5
}
